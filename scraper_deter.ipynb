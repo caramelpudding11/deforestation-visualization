{
 "cells": [
  {
   "cell_type": "code",
   "execution_count": 3,
   "metadata": {},
   "outputs": [
    {
     "name": "stdout",
     "output_type": "stream",
     "text": [
      "Downloading shape.zip...\n",
      "Saved shape.zip to ./data2/shape.zip\n",
      "Extracted shape.zip to ./data2\n",
      "Deleted shape.zip after extraction.\n"
     ]
    }
   ],
   "source": [
    "import os\n",
    "import requests\n",
    "import zipfile\n",
    "from selenium import webdriver\n",
    "from selenium.webdriver.chrome.service import Service\n",
    "from selenium.webdriver.common.by import By\n",
    "from selenium.webdriver.chrome.options import Options\n",
    "from webdriver_manager.chrome import ChromeDriverManager\n",
    "\n",
    "# URL of the page to download from\n",
    "url = 'https://terrabrasilis.dpi.inpe.br/downloads/'\n",
    "\n",
    "# Folder to save the downloaded file and extracted contents\n",
    "download_folder = './data2'\n",
    "os.makedirs(download_folder, exist_ok=True)\n",
    "\n",
    "# Set up Chrome options\n",
    "chrome_options = Options()\n",
    "chrome_options.add_argument(\"--headless\")  # Run headlessly if desired\n",
    "\n",
    "# Initialize WebDriver with ChromeDriverManager\n",
    "driver = webdriver.Chrome(service=Service(ChromeDriverManager().install()), options=chrome_options)\n",
    "\n",
    "# Open the page\n",
    "driver.get(url)\n",
    "\n",
    "try:\n",
    "    # Wait and find the link by id 'file-download-2'\n",
    "    link = driver.find_element(By.ID, 'file-download-2')\n",
    "\n",
    "    # Get the JavaScript function parameter from the href\n",
    "    js_download = link.get_attribute('href')\n",
    "    if \"javascript: download\" in js_download:\n",
    "        # Extract the URL within the JavaScript function\n",
    "        file_path = js_download.split(\"'\")[1]\n",
    "        file_url = f'https://terrabrasilis.dpi.inpe.br{file_path}'\n",
    "\n",
    "        # Specify the filename with .zip extension\n",
    "        filename = f\"{file_path.split('/')[-1]}.zip\"\n",
    "        full_file_path = os.path.join(download_folder, filename)\n",
    "\n",
    "        # Download the ZIP file\n",
    "        print(f\"Downloading {filename}...\")\n",
    "        file_response = requests.get(file_url)\n",
    "\n",
    "        # Save the ZIP file locally\n",
    "        with open(full_file_path, 'wb') as f:\n",
    "            f.write(file_response.content)\n",
    "\n",
    "        print(f\"Saved {filename} to {full_file_path}\")\n",
    "\n",
    "        # Extract the ZIP file\n",
    "        with zipfile.ZipFile(full_file_path, 'r') as zip_ref:\n",
    "            zip_ref.extractall(download_folder)\n",
    "        print(f\"Extracted {filename} to {download_folder}\")\n",
    "\n",
    "        # Delete the ZIP file after extraction\n",
    "        os.remove(full_file_path)\n",
    "        print(f\"Deleted {filename} after extraction.\")\n",
    "\n",
    "    else:\n",
    "        print(\"Unable to parse JavaScript download URL.\")\n",
    "except Exception as e:\n",
    "    print(\"Link with id 'file-download-2' not found.\")\n",
    "    print(\"Error:\", e)\n",
    "finally:\n",
    "    driver.quit()"
   ]
  }
 ],
 "metadata": {
  "kernelspec": {
   "display_name": ".environment",
   "language": "python",
   "name": "python3"
  },
  "language_info": {
   "codemirror_mode": {
    "name": "ipython",
    "version": 3
   },
   "file_extension": ".py",
   "mimetype": "text/x-python",
   "name": "python",
   "nbconvert_exporter": "python",
   "pygments_lexer": "ipython3",
   "version": "3.12.4"
  }
 },
 "nbformat": 4,
 "nbformat_minor": 2
}
