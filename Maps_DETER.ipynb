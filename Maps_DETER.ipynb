{
 "cells": [
  {
   "cell_type": "code",
   "execution_count": 1,
   "id": "d93bc616-d1f2-4b7a-be4d-e38c07f92ca8",
   "metadata": {},
   "outputs": [],
   "source": [
    "import geopandas as gpd\n",
    "import pandas as pd\n",
    "import folium\n",
    "import re\n",
    "from folium.plugins import MarkerCluster"
   ]
  },
  {
   "cell_type": "code",
   "execution_count": 9,
   "id": "11c9357c-3cf6-40ea-839b-0afc9a70e0b6",
   "metadata": {},
   "outputs": [],
   "source": [
    "def load_data():\n",
    "    # DETER ALERTS (GEODF)\n",
    "    alerts = gpd.read_file('../data/deter-amz-public-2024out08/deter-amz-deter-public.shp', encoding='utf-8')\n",
    "    alerts.loc[alerts['CLASSNAME'] == 'DEGRDACAO', 'CLASSNAME'] = 'DEGRADACAO'\n",
    "    alerts = alerts[~(alerts['CLASSNAME'] == 'CORTE_SELETIVO')]\n",
    "    alerts['VIEW_DATE'] = pd.to_datetime(alerts['VIEW_DATE'])\n",
    "    alerts['ANO'] = alerts['VIEW_DATE'].dt.year\n",
    "    alerts['MES'] = alerts['VIEW_DATE'].dt.month\n",
    "    alerts['MES/ANO'] = alerts['VIEW_DATE'].dt.strftime('%Y-%m')\n",
    "\n",
    "    # DETER ALERTS (CSV)\n",
    "    df_deter = pd.DataFrame(alerts)\n",
    "    df_deter = df_deter.drop(columns=['FID', 'QUADRANT', 'PATH_ROW', 'SENSOR', 'SATELLITE', 'geometry'])\n",
    "\n",
    "    \n",
    "    #IBGE DATA\n",
    "    legal_amazon = gpd.read_file('../data/brazilian_legal_amazon/brazilian_legal_amazon.shp',encoding='utf-8')\n",
    "    states = gpd.read_file('../data/states_legal_amazon/states_legal_amazon.shp',encoding='utf-8')\n",
    "    \n",
    "    ac = gpd.read_file('../data/malhas_regionais_ibge/AC_Municipios_2022/AC_Municipios_2022.shp', encoding='utf-8')\n",
    "    am = gpd.read_file('../data/malhas_regionais_ibge/AM_Municipios_2022/AM_Municipios_2022.shp', encoding='utf-8')\n",
    "    ap = gpd.read_file('../data/malhas_regionais_ibge/AP_Municipios_2022/AP_Municipios_2022.shp', encoding='utf-8')\n",
    "    ma = gpd.read_file('../data/malhas_regionais_ibge/MA_Municipios_2022/MA_Municipios_2022.shp', encoding='utf-8')\n",
    "    mt = gpd.read_file('../data/malhas_regionais_ibge/MT_Municipios_2022/MT_Municipios_2022.shp', encoding='utf-8')\n",
    "    pa = gpd.read_file('../data/malhas_regionais_ibge/PA_Municipios_2022/PA_Municipios_2022.shp', encoding='utf-8')\n",
    "    ro = gpd.read_file('../data/malhas_regionais_ibge/RO_Municipios_2022/RO_Municipios_2022.shp', encoding='utf-8')\n",
    "    rr = gpd.read_file('../data/malhas_regionais_ibge/RR_Municipios_2022/RR_Municipios_2022.shp', encoding='utf-8')\n",
    "    to = gpd.read_file('../data/malhas_regionais_ibge/TO_Municipios_2022/TO_Municipios_2022.shp', encoding='utf-8')\n",
    "\n",
    "    df_cities = pd.concat([ac, am, ap, ma, mt, pa, ro, rr, to])\n",
    "    # df_cities = pd.concat([ac])\n",
    "\n",
    "    df_cities.rename(columns={'CD_MUN':'GEOCODIBGE'}, inplace=True)\n",
    "\n",
    "    c_units = gpd.read_file('../data/conservation_units_legal_amazon/conservation_units_legal_amazon.shp',encoding='utf-8')\n",
    "    c_units.rename(columns={'nome':'UC'},inplace=True)\n",
    "    \n",
    "    return alerts, df_deter, legal_amazon, states, df_cities, c_units\n",
    "\n",
    "alerts, df_deter, legal_amazon, states, df_cities, c_units = load_data()"
   ]
  },
  {
   "cell_type": "code",
   "execution_count": 10,
   "id": "8ac31bee",
   "metadata": {},
   "outputs": [
    {
     "name": "stdout",
     "output_type": "stream",
     "text": [
      "                FID             CLASSNAME QUADRANT PATH_ROW  VIEW_DATE SENSOR  \\\n",
      "0       100002_hist  CICATRIZ_DE_QUEIMADA     None   170105 2018-01-11   AWFI   \n",
      "1       100003_hist  CICATRIZ_DE_QUEIMADA     None   169105 2018-01-14   AWFI   \n",
      "2       100005_curr  CICATRIZ_DE_QUEIMADA     None   037017 2024-09-26    WFI   \n",
      "3       100005_hist      DESMATAMENTO_VEG     None   169105 2018-01-14   AWFI   \n",
      "4       100006_hist  CICATRIZ_DE_QUEIMADA     None   169105 2018-01-14   AWFI   \n",
      "...             ...                   ...      ...      ...        ...    ...   \n",
      "392804    9999_curr       DESMATAMENTO_CR     None   038016 2023-09-29    WFI   \n",
      "392805     999_curr  CICATRIZ_DE_QUEIMADA     None   036016 2023-08-16    WFI   \n",
      "392806      99_hist            DEGRADACAO        D   321074 2016-08-02  AWIFS   \n",
      "392807       9_curr       DESMATAMENTO_CR     None   036016 2023-08-01    WFI   \n",
      "392808       9_hist  CICATRIZ_DE_QUEIMADA        B   324078 2016-08-17  AWIFS   \n",
      "\n",
      "            SATELLITE  AREAUCKM    UC  AREAMUNKM          MUNICIPALI  \\\n",
      "0             CBERS-4       0.0  None   0.459839        Monte Alegre   \n",
      "1             CBERS-4       0.0  None   0.340975            Itaituba   \n",
      "2          AMAZONIA-1       0.0  None   1.373554         Marcelandia   \n",
      "3             CBERS-4       0.0  None   0.070781            Altamira   \n",
      "4             CBERS-4       0.0  None   0.149432            Itaituba   \n",
      "...               ...       ...   ...        ...                 ...   \n",
      "392804     AMAZONIA-1       0.0  None   0.206886  Candeias do Jamari   \n",
      "392805     AMAZONIA-1       0.0  None   0.425538  Sao Felix do Xingu   \n",
      "392806  RESOURCESAT-2       0.0  None  22.043149              Portel   \n",
      "392807     AMAZONIA-1       0.0  None   0.139690     Cumaru do Norte   \n",
      "392808  RESOURCESAT-2       0.0  None   7.582060         Paragominas   \n",
      "\n",
      "       GEOCODIBGE  UF                                           geometry  \\\n",
      "0         1504802  PA  POLYGON ((-54.04199 -1.90637, -54.04199 -1.906...   \n",
      "1         1503606  PA  POLYGON ((-55.27159 -6.43149, -55.27159 -6.432...   \n",
      "2         5105580  MT  POLYGON ((-53.91501 -11.20377, -53.91446 -11.2...   \n",
      "3         1500602  PA  POLYGON ((-53.69443 -6.16354, -53.69474 -6.163...   \n",
      "4         1503606  PA  POLYGON ((-55.27399 -6.44736, -55.27401 -6.447...   \n",
      "...           ...  ..                                                ...   \n",
      "392804    1100809  RO  POLYGON ((-63.07540 -8.60101, -63.07302 -8.598...   \n",
      "392805    1507300  PA  POLYGON ((-52.15616 -6.23029, -52.15616 -6.228...   \n",
      "392806    1505809  PA  POLYGON ((-50.46904 -2.30530, -50.46901 -2.305...   \n",
      "392807    1502764  PA  POLYGON ((-51.48065 -9.15754, -51.48063 -9.157...   \n",
      "392808    1505502  PA  POLYGON ((-46.80944 -2.50000, -46.80973 -2.500...   \n",
      "\n",
      "         ANO  MES  MES/ANO  \n",
      "0       2018    1  2018-01  \n",
      "1       2018    1  2018-01  \n",
      "2       2024    9  2024-09  \n",
      "3       2018    1  2018-01  \n",
      "4       2018    1  2018-01  \n",
      "...      ...  ...      ...  \n",
      "392804  2023    9  2023-09  \n",
      "392805  2023    8  2023-08  \n",
      "392806  2016    8  2016-08  \n",
      "392807  2023    8  2023-08  \n",
      "392808  2016    8  2016-08  \n",
      "\n",
      "[392808 rows x 17 columns]\n"
     ]
    }
   ],
   "source": [
    "print(alerts)"
   ]
  },
  {
   "cell_type": "code",
   "execution_count": 11,
   "id": "2f53a24e",
   "metadata": {},
   "outputs": [
    {
     "name": "stdout",
     "output_type": "stream",
     "text": [
      "DF Deter                    CLASSNAME  VIEW_DATE  AREAUCKM    UC  AREAMUNKM  \\\n",
      "0       CICATRIZ_DE_QUEIMADA 2018-01-11       0.0  None   0.459839   \n",
      "1       CICATRIZ_DE_QUEIMADA 2018-01-14       0.0  None   0.340975   \n",
      "2       CICATRIZ_DE_QUEIMADA 2024-09-26       0.0  None   1.373554   \n",
      "3           DESMATAMENTO_VEG 2018-01-14       0.0  None   0.070781   \n",
      "4       CICATRIZ_DE_QUEIMADA 2018-01-14       0.0  None   0.149432   \n",
      "...                      ...        ...       ...   ...        ...   \n",
      "392804       DESMATAMENTO_CR 2023-09-29       0.0  None   0.206886   \n",
      "392805  CICATRIZ_DE_QUEIMADA 2023-08-16       0.0  None   0.425538   \n",
      "392806            DEGRADACAO 2016-08-02       0.0  None  22.043149   \n",
      "392807       DESMATAMENTO_CR 2023-08-01       0.0  None   0.139690   \n",
      "392808  CICATRIZ_DE_QUEIMADA 2016-08-17       0.0  None   7.582060   \n",
      "\n",
      "                MUNICIPALI GEOCODIBGE  UF   ANO  MES  MES/ANO  \n",
      "0             Monte Alegre    1504802  PA  2018    1  2018-01  \n",
      "1                 Itaituba    1503606  PA  2018    1  2018-01  \n",
      "2              Marcelandia    5105580  MT  2024    9  2024-09  \n",
      "3                 Altamira    1500602  PA  2018    1  2018-01  \n",
      "4                 Itaituba    1503606  PA  2018    1  2018-01  \n",
      "...                    ...        ...  ..   ...  ...      ...  \n",
      "392804  Candeias do Jamari    1100809  RO  2023    9  2023-09  \n",
      "392805  Sao Felix do Xingu    1507300  PA  2023    8  2023-08  \n",
      "392806              Portel    1505809  PA  2016    8  2016-08  \n",
      "392807     Cumaru do Norte    1502764  PA  2023    8  2023-08  \n",
      "392808         Paragominas    1505502  PA  2016    8  2016-08  \n",
      "\n",
      "[392808 rows x 11 columns]\n",
      "\n",
      "Legal Amazon         sprarea    sprperimet sprclasse  \\\n",
      "0  5.068004e+12  1.877763e+07  AM_Legal   \n",
      "\n",
      "                                            geometry  \n",
      "0  POLYGON ((-44.04149 -2.46528, -43.95183 -6.754...  \n",
      "\n",
      "States    id         nome sigla geocodigo  \\\n",
      "0   2     Rondônia    RO        11   \n",
      "1   3         Acre    AC        12   \n",
      "2   4     Amazonas    AM        13   \n",
      "3   5      Roraima    RR        14   \n",
      "4   6         Pará    PA        15   \n",
      "5   7        Amapá    AP        16   \n",
      "6   8    Tocantins    TO        17   \n",
      "7  14  Mato Grosso    MT        51   \n",
      "8  26     Maranhão    MA        21   \n",
      "\n",
      "                                            geometry  \n",
      "0  MULTIPOLYGON (((-60.71438 -13.69188, -60.72165...  \n",
      "1  MULTIPOLYGON (((-66.62515 -9.90290, -66.62446 ...  \n",
      "2  MULTIPOLYGON (((-73.78698 -7.09645, -73.73817 ...  \n",
      "3  MULTIPOLYGON (((-63.37171 2.21232, -63.37086 2...  \n",
      "4  MULTIPOLYGON (((-58.89539 1.22830, -58.89500 1...  \n",
      "5  MULTIPOLYGON (((-54.87194 2.43435, -54.87178 2...  \n",
      "6  POLYGON ((-45.93767 -10.25589, -45.87883 -10.2...  \n",
      "7  MULTIPOLYGON (((-50.50981 -12.86237, -50.50174...  \n",
      "8  MULTIPOLYGON (((-44.04109 -2.48442, -44.03955 ...  \n"
     ]
    }
   ],
   "source": [
    "print(\"DF Deter\", df_deter)\n",
    "print(\"\\nLegal Amazon\", legal_amazon)\n",
    "print(\"\\nStates\", states)"
   ]
  },
  {
   "cell_type": "code",
   "execution_count": 12,
   "id": "9931b509",
   "metadata": {},
   "outputs": [
    {
     "name": "stdout",
     "output_type": "stream",
     "text": [
      "DF Cities     GEOCODIBGE          NM_MUN SIGLA_UF  AREA_KM2  \\\n",
      "0      1200013      Acrelândia       AC  1811.613   \n",
      "1      1200054    Assis Brasil       AC  4979.073   \n",
      "2      1200104       Brasiléia       AC  3928.174   \n",
      "3      1200138          Bujari       AC  3034.869   \n",
      "4      1200179        Capixaba       AC  1705.824   \n",
      "..         ...             ...      ...       ...   \n",
      "134    1721208  Tocantinópolis       TO  1083.600   \n",
      "135    1721257        Tupirama       TO   706.883   \n",
      "136    1721307      Tupiratins       TO   889.126   \n",
      "137    1722081    Wanderlândia       TO  1365.431   \n",
      "138    1722107         Xambioá       TO  1190.489   \n",
      "\n",
      "                                              geometry  \n",
      "0    POLYGON ((-67.07612 -10.08798, -67.07659 -10.0...  \n",
      "1    POLYGON ((-69.55253 -10.87353, -69.52086 -10.8...  \n",
      "2    POLYGON ((-68.75712 -11.01097, -68.75752 -11.0...  \n",
      "3    POLYGON ((-67.92167 -9.69355, -67.91736 -9.693...  \n",
      "4    POLYGON ((-67.73403 -10.71177, -67.73414 -10.7...  \n",
      "..                                                 ...  \n",
      "134  POLYGON ((-47.39135 -6.22329, -47.38537 -6.230...  \n",
      "135  POLYGON ((-48.17812 -8.95212, -48.17816 -8.952...  \n",
      "136  POLYGON ((-48.21831 -8.54589, -48.21842 -8.546...  \n",
      "137  POLYGON ((-48.12918 -6.81092, -48.12918 -6.810...  \n",
      "138  POLYGON ((-48.57962 -6.62613, -48.57963 -6.626...  \n",
      "\n",
      "[808 rows x 5 columns]\n",
      "\n",
      "C Units        id                                                 UC  \\\n",
      "0     366                     ESTAÇÃO ECOLÓGICA DO GRÃO PARÁ   \n",
      "1      30             RESERVA EXTRATIVISTA RIO PRETO-JACUNDÁ   \n",
      "2      40                RESERVA EXTRATIVISTA DO MéDIO PURúS   \n",
      "3     789      ÁREA DE PROTEÇÃO AMBIENTAL - BAIXO RIO BRANCO   \n",
      "4      44  RESERVA DE DESENVOLVIMENTO SUSTENTAVEL DO RIO ...   \n",
      "..    ...                                                ...   \n",
      "353   276           PARQUE NACIONAL DA CHAPADA DOS GUIMARÃES   \n",
      "354  1625  ÁREA DE PROTEÇÃO AMBIENTAL MUNICIPAL DO ARICÁ-AÇU   \n",
      "355   294                    PARQUE ESTADUAL ÁGUAS DO CUIABÁ   \n",
      "356   356                 RESERVA EXTRATIVISTA LAGO DO CEDRO   \n",
      "357  1833  RESERVA PARTICULAR DO PATRIMÔNIO NATURAL POLEI...   \n",
      "\n",
      "                                    categoria grupo     esfera ano_cria  \\\n",
      "0                           Estação Ecológica    PI   estadual     2006   \n",
      "1                        Reserva Extrativista    US   estadual     1996   \n",
      "2                        Reserva Extrativista    US    federal     2008   \n",
      "3                  Área de Proteção Ambiental    US   estadual     2006   \n",
      "4      Reserva de Desenvolvimento Sustentável    US   estadual     2006   \n",
      "..                                        ...   ...        ...      ...   \n",
      "353                                    Parque    PI    federal     1989   \n",
      "354                Área de Proteção Ambiental    US  municipal     1999   \n",
      "355                                    Parque    PI   estadual     2002   \n",
      "356                      Reserva Extrativista    US    federal     2006   \n",
      "357  Reserva Particular do Patrimônio Natural    US   estadual     1998   \n",
      "\n",
      "                                              geometry  \n",
      "0    POLYGON ((-58.89380 1.22780, -58.87546 1.22389...  \n",
      "1    POLYGON ((-62.19898 -8.85976, -62.20689 -8.876...  \n",
      "2    POLYGON ((-64.89972 -7.13722, -64.89886 -7.138...  \n",
      "3    POLYGON ((-60.96747 0.82676, -60.96742 0.82679...  \n",
      "4    MULTIPOLYGON (((-61.18900 -5.44252, -61.18910 ...  \n",
      "..                                                 ...  \n",
      "353  POLYGON ((-55.92403 -15.21560, -55.92343 -15.2...  \n",
      "354  POLYGON ((-55.90371 -15.44614, -55.87506 -15.5...  \n",
      "355  POLYGON ((-55.30824 -14.31614, -55.31960 -14.3...  \n",
      "356  MULTIPOLYGON (((-50.99498 -14.61956, -50.99510...  \n",
      "357  MULTIPOLYGON (((-56.16939 -17.19256, -56.17658...  \n",
      "\n",
      "[358 rows x 7 columns]\n"
     ]
    }
   ],
   "source": [
    "print(\"DF Cities\", df_cities)\n",
    "print(\"\\nC Units\", c_units)"
   ]
  },
  {
   "cell_type": "code",
   "execution_count": 13,
   "id": "11a5f7a6-cb80-42df-97a8-1c9deb3823a1",
   "metadata": {},
   "outputs": [],
   "source": [
    "# LOADING TEXTS (ENGLISH AND PORTUGUESE)\n",
    "\n",
    "df_texts = pd.read_csv('../texts/texts_deter.csv', sep='§', engine='python')\n",
    "english = {list(df_texts['Key'])[i]: list(df_texts['English'])[i] for i in range(len(list(df_texts['Key'])))}\n",
    "portuguese = {list(df_texts['Key'])[i]: list(df_texts['Portuguese'])[i] for i in range(len(list(df_texts['Key'])))}\n",
    "\n",
    "classes_deter_en = {'CICATRIZ_DE_QUEIMADA': 'Forest Fire Scar',\n",
    "          'DESMATAMENTO_CR': 'Deforestation with Exposed Soil',\n",
    "          'DESMATAMENTO_VEG': 'Deforestation with Vegetation',\n",
    "          'MINERACAO': 'Mining',\n",
    "          'DEGRADACAO': 'Degradation',\n",
    "          'CS_DESORDENADO': 'Selective Logging Type 1 (Disordered)',\n",
    "          'CS_GEOMETRICO': 'Selective Logging Type 2 (Geometric)',\n",
    "}\n",
    "\n",
    "classes_deter_pt = {'CICATRIZ_DE_QUEIMADA': 'Cicatriz de incêndio florestal',\n",
    "          'DESMATAMENTO_CR': 'Desmatamento com solo exposto',\n",
    "          'DESMATAMENTO_VEG': 'Desmatamento com Vegetação',\n",
    "          'MINERACAO': 'Mineração',\n",
    "          'DEGRADACAO': 'Degradação',\n",
    "          'CS_DESORDENADO': 'Corte Seletivo Tipo 1 (Desordenado)',\n",
    "          'CS_GEOMETRICO': 'Corte Seletivo Tipo 2 (Geométrico)',\n",
    "}\n",
    "\n",
    "estados = {\n",
    "    \"MT\": \"Mato Grosso\",\n",
    "    \"PA\": \"Pará\",\n",
    "    \"AM\": \"Amazonas\",\n",
    "    \"RO\": \"Rondônia\",\n",
    "    \"MA\": \"Maranhão\",\n",
    "    \"RR\": \"Roraima\",\n",
    "    \"AC\": \"Acre\",\n",
    "    \"TO\": \"Tocantins\",\n",
    "    \"AP\": \"Amapá\"\n",
    "}\n",
    "\n",
    "def get_texts(lang):\n",
    "    if lang == \"English\":\n",
    "        return classes_deter_en, english\n",
    "    else:\n",
    "        return classes_deter_pt, portuguese\n",
    "\n",
    "dict_classes, texts = get_texts(\"English\")"
   ]
  },
  {
   "cell_type": "code",
   "execution_count": 14,
   "id": "2333859a",
   "metadata": {},
   "outputs": [
    {
     "name": "stdout",
     "output_type": "stream",
     "text": [
      "{'CICATRIZ_DE_QUEIMADA': 'Forest Fire Scar', 'DESMATAMENTO_CR': 'Deforestation with Exposed Soil', 'DESMATAMENTO_VEG': 'Deforestation with Vegetation', 'MINERACAO': 'Mining', 'DEGRADACAO': 'Degradation', 'CS_DESORDENADO': 'Selective Logging Type 1 (Disordered)', 'CS_GEOMETRICO': 'Selective Logging Type 2 (Geometric)'}\n"
     ]
    }
   ],
   "source": [
    "print(dict_classes)"
   ]
  },
  {
   "cell_type": "code",
   "execution_count": 15,
   "id": "bd430262",
   "metadata": {},
   "outputs": [
    {
     "name": "stdout",
     "output_type": "stream",
     "text": [
      "{'page_title': 'Amazon Deforestation Monitor', 'date_format': '%m-%d-%Y', 'date_format2': '%m-%Y', 'date_format3': 'MM/DD/YYYY', 'deter_expander_title': 'What is DETER?', 'deter_expander_desc_1': 'The [DETER](http://www.inpe.br/cra/projetos_pesquisas/deter.php) system, short for \"Real-Time Deforestation Detection\", is a system developed by the Brazilian National Institute for Space Research (INPE), aimed at monitoring and identifying changes in forest cover within the Legal Amazon in Brazil. This system is essential for environmental enforcement and combating illegal deforestation, providing crucial data for prevention and control actions.\\nThrough high-resolution satellite images, DETER can detect areas of deforestation and forest degradation with high precision and almost in real-time. This information is made available periodically, allowing for a swift response from environmental authorities.\\n\\nDETER\\'s detections are classified into various categories, reflecting different types of vegetation changes and land use. Among the main alert classes issued by the system are:\\n- ***Forest Fire Scar***: Areas affected by fires, leaving visible marks on the vegetation.\\n- ***Deforestation with Exposed Soil***: Areas where the vegetation has been completely removed, exposing the soil.\\n- ***Deforestation with Vegetation***: Partially deforested areas, where there is still the presence of remaining vegetation.\\n- ***Mining***: Areas impacted by mineral extraction, usually characterized by large pits or tailings piles.\\n- ***Degradation***: Areas where the vegetation has been degraded but not fully removed. This can include selective logging of trees or the reduction of forest density.\\n- ***Selective Logging Type 1 (Disordered) and Type 2 (Geometric)***: Areas where selective tree extraction has occurred. \"Type 1\" refers to cuts made in a disordered manner, while \"Type 2\" indicates extraction with defined geometric patterns.\\n', 'deter_expander_desc_2': '\\nThrough continuous monitoring and detailed classification of observed changes, DETER plays a crucial role in preserving the Amazon, offering a powerful tool for understanding and combating deforestation in the region.', 'title_deter_graph1': 'Classes by Affected Area', 'about_deter_alerts': '#### About DETER alerts between {} and {}', 'deter_metric1_label': 'Total Alerts:', 'title_deter_graph2': 'Alert Occurrences by Class', 'title_deter_graph3': 'Most Affected States by Damaged Area', 'title_deter_graph4': 'Most Affected Cities by Damaged Area', 'graph4_desc': 'The list highlights a predominance of cities in the states of Pará and Mato Grosso, indicating regions of high pressure on the forest, whether due to deforestation, fires, or other forms of environmental degradation. Labrea in Amazonas and Porto Velho in Rondônia also feature among the most affected, highlighting the extent of the deforestation problem across the entire Legal Amazon region.\\n\\nFeliz Natal and Querência, both in Mato Grosso, as well as Novo Progresso and Paragominas in Pará, are examples of other cities with significantly impacted areas. This reflects the urgency of actions aimed at conservation and sustainable management of natural resources in the region, emphasizing the need for continuous and effective monitoring to combat deforestation and preserve biodiversity.', 'title_deter_graph5': 'Damage per Month in the Legal Amazon (km²)', 'title_deter_graph6': 'Monthly Total Damage in the Legal Amazon: Analysis from {} to {}', 'labels_deter_graph6': \"['Jan', 'Feb', 'Mar', 'Apr', 'May', 'Jun', 'Jul', 'Aug', 'Sep', 'Oct', 'Nov', 'Dec']\", 'title_deter_graph7': 'Trend Analysis: Annual Variations of Damages', 'about': 'About DETER', 'general': 'General Vision', 'alert_classes': 'Alert Classes', 'states_statistics': 'States', 'cities_statistics': 'Cities', 'ucs_statistics': 'Conservation Units', 'dmg_ty': 'Damage Through Years', 'map': 'Map View', 'graph3_desc': '- **Mato Grosso and Pará** lead in terms of affected area, with 75,043 km² and 64,342 km² respectively. This highlights the intensity of deforestation and degradation in these states, possibly due to agricultural activities, logging, and mining.\\n- **Amazonas, Rondônia, and Maranhão** also show significant affected areas, reflecting the extent of the deforestation problem in the region.\\n- **Roraima, Acre, Tocantins, and Amapá** display smaller affected areas but still face significant challenges in terms of conservation and sustainable resource management.', 'graphs_12_desc': '- **Deforestation with Exposed Soil**: With the highest number of alerts (234,632), this class significantly impacts the environment, exposing 51,420 km² of soil. This extensive clearing of vegetation for agriculture or other land uses directly contributes to habitat loss, biodiversity reduction, and increased carbon emissions.\\n\\n- **Forest Fire Scar**: Representing the second highest alert occurrence (66,510) and the largest affected area (95,351 km²), forest fire scars indicate areas impacted by fires. These events can be natural or human-induced, leading to substantial ecological and economic losses.\\n\\n- **Degradation**: With 32,273 occurrences and an affected area of 20,064 km², degradation  reflect areas where vegetation has been damaged or partially removed but not entirely destroyed. This process can be caused by unsustainable land management practices, including logging and slash-and-burn agriculture.\\n\\n- **Selective Logging Type 1 and Type 2**: These classes highlight specific logging activities, affecting areas of 13,482 km² and 10,566 km², respectively. Although less extensive than outright deforestation, selective logging can still lead to forest fragmentation and degradation.\\n\\n- **Deforestation with Vegetation**: This class accounts for 8,805 alerts and impacts a relatively smaller area of 2,133 km². It represents areas where deforestation has occurred but some vegetation remains, indicating either partial clearance or the initial stages of deforestation.\\n\\n- **Mining**: The least extensive in terms of area (691 km²) but noteworthy for its environmental impact, mining activities lead to significant local damage, including habitat destruction, water pollution, and soil erosion.', 'graph8_title': 'Regional Analysis of Impact Distribution by Alert Class in the Legal Amazon', 'graph8_desc': '**Forest Fire Scar** is predominantly the class with the largest affected area in almost all states, highlighting the recurrence and extent of forest fires in the region. Mato Grosso and Pará lead with the largest areas affected, indicating high vulnerability to fires.\\n\\n**Deforestation with Exposed Soil** has a significant number of occurrences, with Pará showing the largest area affected by this class. This signals intense deforestation activity, where vegetation is completely removed, exposing the soil.\\n\\nClasses related to **Selective Logging (Type 1 and Type 2)** show a more heterogeneous distribution, with Mato Grosso presenting the largest area affected. This may reflect specific forest management practices or logging activities in the region.\\n\\n**Degradation** is observed in all states but with relatively smaller affected areas compared to other classes. This suggests that, although present, degradation may occur on a less extensive scale than total deforestation or forest fires.\\n\\n**Mining**, although representing the smallest area affected among the classes, is notable in states like Pará. The presence of mining activities, even on a smaller scale, highlights the diversity of land pressures in the Legal Amazon.', 'graph5_desc': \"The line chart above illustrates the monthly impact in the Legal Amazon, highlighting the area affected by deforestation and other disturbances reported through the DETER system from 2016 to 2024. Each point on the graph represents the total area affected in square kilometers for that month. The markers highlight the months with the highest impact within each year, visually emphasizing the periods of greatest environmental stress.\\n\\nThis analysis offers a temporal perspective on deforestation trends, with the marked points indicating the peak periods of deforestation activity. Such peaks often correlate with dry seasons or periods of increased land use change activities. The chart's time range allows for an observation of how deforestation patterns evolve, potentially influenced by policy changes, enforcement levels, or economic factors.\\n\\nBy aggregating data monthly, we can identify specific times of the year that consistently show higher levels of deforestation, guiding targeted interventions. It also underscores the importance of continuous monitoring and the need for effective strategies to mitigate these impacts. This approach not only aids in understanding the dynamics of deforestation but also serves as a critical tool for policymakers, conservationists, and researchers striving to preserve the Amazon rainforest's biodiversity and ecological integrity.\", 'graph6_desc': \"This bar chart visualizes the total damage per month in the Legal Amazon, aggregating data across all complete years in the dataset. It reveals a distinct seasonal pattern in deforestation and degradation activities, with notable peaks and troughs throughout the year.\\n\\nFrom January through December, the data show a progressive increase in the area affected, peaking significantly in the months of July, August and September. This period corresponds to the dry season in the Amazon, when the risk of fires is heightened, and land-clearing activities for agriculture or illegal logging tend to increase due to the lower moisture levels.\\n\\nThe chart shows a sharp decline in October, although the figures remain high at 24,590 km², suggesting that while the peak of the deforestation season may have passed, significant impacts continue into the latter part of the year. Following October, there's a notable reduction in activity, with November and December showing a considerable drop in the area affected, aligning with the onset of the rainy season, which typically discourages deforestation and burning activities.\\n\\nThis seasonal trend underscores the critical need for targeted intervention strategies during the dry season to mitigate the highest rates of deforestation and degradation. Understanding these patterns is crucial for policymakers, environmental agencies, and conservation groups in planning and implementing measures to protect the Amazon rainforest effectively.\", 'graph7_desc': \"This visualization provides a detailed annual analysis of changes in the damaged areas within the Legal Amazon, focusing exclusively on complete years within the dataset. This approach ensures that the data presented are comprehensive and representative of each year's full impact, thereby allowing for accurate year-over-year comparisons. Each bar represents the total area affected in a particular year. The use of arrows to illustrate changes between the years adds a dynamic element to the visualization, with green arrows denoting reductions in affected areas—suggesting periods of recovery or effective conservation measures—and red arrows highlighting increases, indicative of heightened deforestation activities.</br></br>The visualization commences in 2017, establishing a foundational comparison point for the years that follow. Thereafter, the data reveal a series of fluctuations indicative of the region's ongoing struggle with deforestation. The observed decrease in 2018 may suggest the impact of effective conservation strategies or advantageous environmental conditions. In contrast, the subsequent increase in 2019, reaching a notable peak in 2020, followed by a pronounced decline in 2021, and yet another ascent in 2022, underscore the persistent challenges in combating deforestation. The year 2023 continues this pattern, displaying a decrease in affected areas, which might be attributed to a combination of factors including policy implementation, enforcement rigor, economic variables, and environmental conditions that collectively determine the susceptibility of the Amazon to deforestation and degradation activities. This chronological sequence of data points to the complex dynamics at play, highlighting the necessity for adaptive and robust approaches to preservation and management of this critical ecosystem.\", 'graph9_title': 'Most Affected Conservation Units by Damaged Area', 'graph9_desc': 'Conservation Units (UCs) are legally protected natural areas designated to preserve biodiversity, protect endangered species, maintain and restore essential ecosystems, and promote sustainable development. They play a crucial role in mitigating climate change, maintaining water resources, and preserving natural landscapes.\\n\\nThe chart highlights the top 25 UCs in the Legal Amazon most affected by deforestation and degradation, measured by the impacted area in square kilometers, showcasing the environmental pressures these protected areas face. The UCs range from National Forests, like the Jamanxim National Forest leading with an impacted area of 1,040 km², to Extractive Reserves, like the Chico Mendes Extractive Reserve, and National Parks, like the Araguaia National Park.', 'classes_graphs_title': 'Impact Analysis of Alert Classes in the Amazon Deforestation', 'total_dmg': 'Total Damaged Area:', 'vis_type': 'Choose Visualization Type:', 'vis_options': 'None;States;Cities;Conservation Units', 'vis_state': 'Choose the state you want to visualize on the map:', 'git': 'Github repository', 'inpe_ref': 'NATIONAL INSTITUTE FOR SPACE RESEARCH. GENERAL COORDINATION FOR EARTH OBSERVATION. AMAZON AND OTHER BIOMES MONITORING PROGRAM. Notices – Legal Amazon – Available at: <a href=\"https://terrabrasilis.dpi.inpe.br/downloads/\">TerraBrasilis</a>. Accessed on: July 10, 2024.'}\n"
     ]
    }
   ],
   "source": [
    "print(texts)"
   ]
  },
  {
   "cell_type": "code",
   "execution_count": 16,
   "id": "9d8d531d-c317-482b-9b39-c6cea77d1572",
   "metadata": {},
   "outputs": [],
   "source": [
    "def get_centroids(geo_df, mode=2, crs='EPSG:31982'):\n",
    "\n",
    "    if mode==0:\n",
    "        centroids = geo_df.copy()\n",
    "        centroids[\"centroid\"] = centroids.geometry.centroid\n",
    "        centroids[\"latitude\"] = centroids.centroid.y\n",
    "        centroids[\"longitude\"] = centroids.centroid.x\n",
    "        return centroids\n",
    "\n",
    "    if mode==1:\n",
    "        geo_df_proj = geo_df.copy()\n",
    "        geo_df_proj.to_crs(crs)\n",
    "        \n",
    "        geo_df_proj['centroid'] = geo_df_proj.geometry.centroid\n",
    "        geo_df_proj['latitude'] = geo_df_proj.centroid.y\n",
    "        geo_df_proj['longitude'] = geo_df_proj.centroid.x\n",
    "        \n",
    "        centroids = gpd.GeoDataFrame(geo_df_proj, geometry='centroid', crs=crs)\n",
    "    \n",
    "        centroids = centroids.to_crs(geo_df.crs)\n",
    "        return centroids\n",
    "\n",
    "    if mode==2:\n",
    "        df = geo_df.copy()\n",
    "        df['representative_point'] = df.geometry.representative_point()\n",
    "        df['latitude'] = df['representative_point'].apply(lambda p: p.y)\n",
    "        df['longitude'] = df['representative_point'].apply(lambda p: p.x)\n",
    "        return df\n",
    "\n",
    "def folium_map_init():\n",
    "    map = folium.Map(location=[-7.25, -60], zoom_start=4)\n",
    "\n",
    "    # folium.TileLayer(\n",
    "    #     tiles='https://tiles.stadiamaps.com/tiles/stamen_terrain/{z}/{x}/{y}{r}.png', \n",
    "    #     attr='&copy; <a href=\"https://www.stadiamaps.com/\" target=\"_blank\">Stadia Maps</a> &copy; <a href=\"https://www.stamen.com/\" target=\"_blank\">Stamen Design</a> &copy; <a href=\"https://openmaptiles.org/\" target=\"_blank\">OpenMapTiles</a> &copy; <a href=\"https://www.openstreetmap.org/copyright\">OpenStreetMap</a> contributors',\n",
    "    #     name='Stamen Terrain'\n",
    "    # ).add_to(map)\n",
    "\n",
    "    return map\n",
    "\n",
    "def folium_add_markers(container, df_data, geo_df, get_centroid_mode, df_deter, key, popup_title_column, popup_total_area_text='Área Total Afetada:',total_area_column='AREAMUNKM'):\n",
    "\n",
    "    all_classes = sorted(df_deter['CLASSNAME'].unique())\n",
    "    df_centroids = get_centroids(geo_df,get_centroid_mode)\n",
    "    \n",
    "    for idx, row in df_data.iterrows():\n",
    "\n",
    "        # Get Centroids for marker location\n",
    "        coords = df_centroids.loc[df_centroids[key] == row[key]].iloc[0]\n",
    "\n",
    "        # Variable of statistics\n",
    "        info = ''\n",
    "        \n",
    "        # Get classes statistics from the deter dataframe\n",
    "        if row['AREAMUNKM']>0:\n",
    "            df_stats = df_deter[df_deter[key] == row[key]]\n",
    "            df_stats_summed = df_stats.groupby('CLASSNAME')['AREAMUNKM'].sum().reset_index()\n",
    "            df_stats_complete = pd.DataFrame({'CLASSNAME': all_classes})\n",
    "            df_stats_complete = df_stats_complete.merge(df_stats_summed, on='CLASSNAME', how='left').fillna(0)\n",
    "            df_stats_complete['DESC'] = df_stats_complete['CLASSNAME'].map(dict_classes)\n",
    "            df_stats_complete = df_stats_complete.sort_values(by='AREAMUNKM', ascending=False)\n",
    "    \n",
    "            total = df_stats_complete['AREAMUNKM'].sum()\n",
    "            \n",
    "            # Calculates percentage of every class\n",
    "            for ind, lin in df_stats_complete.iterrows():\n",
    "                perc = (lin['AREAMUNKM'] * 100) / total\n",
    "                info += f\"{lin['DESC']}: {lin['AREAMUNKM']:.0f} km² ({perc:.2f}%)<br>\"\n",
    "        \n",
    "        popup_text = f\"\"\"\n",
    "        <div style='white-space: nowrap;'>\n",
    "        <span style='font-size: 16px; font-weight: bold;'>{row[popup_title_column]}</span><br><br> {popup_total_area_text} {row[total_area_column]:.0f} km²<br><br> {info}\n",
    "        </div>\n",
    "        \"\"\"\n",
    "\n",
    "        # Add marker on Map or MarkerCluster (container)\n",
    "        folium.Marker(\n",
    "            location=[coords['latitude'], coords['longitude']],\n",
    "            popup=popup_text,\n",
    "            icon=folium.Icon(color='red', icon='triangle-exclamation', prefix='fa')\n",
    "        ).add_to(container)\n",
    "    \n",
    "    return container"
   ]
  },
  {
   "cell_type": "code",
   "execution_count": 17,
   "id": "80b3be69-e697-4932-a084-88cf75ccda32",
   "metadata": {},
   "outputs": [],
   "source": [
    "def save_map(file_name,map):\n",
    "    map.save(f\"../Visualizations/DETER/Maps/{file_name}.html\")"
   ]
  },
  {
   "cell_type": "markdown",
   "id": "286f0f33-fdc8-4242-81e1-e0e6f65a2e53",
   "metadata": {},
   "source": [
    "### States Map:"
   ]
  },
  {
   "cell_type": "code",
   "execution_count": 18,
   "id": "99ba5eba-f044-46e4-afd8-13f7816e25cc",
   "metadata": {},
   "outputs": [],
   "source": [
    "def states_map():\n",
    "    \n",
    "    ############# Data Preparation #############\n",
    "    # legal_amazon = gpd.read_file('data/brazilian_legal_amazon/brazilian_legal_amazon.shp',encoding='utf-8')\n",
    "    # states = gpd.read_file('data/states_legal_amazon/states_legal_amazon.shp',encoding='utf-8')\n",
    "    \n",
    "    df_deter = alerts.copy()\n",
    "    gb_uf = df_deter.groupby('UF')['AREAMUNKM'].sum().sort_values(ascending=False)\n",
    "    gb_uf = pd.DataFrame(gb_uf)\n",
    "    \n",
    "    gb_uf['NOME_ESTADO'] = gb_uf.index.map(estados)\n",
    "    gb_uf['NOME_SIGLA'] = gb_uf['NOME_ESTADO'] + ' (' + gb_uf.index + ')' \n",
    "    gb_uf = gb_uf.reset_index()\n",
    "    states_copy = states.copy()\n",
    "    states_copy = states_copy.rename(columns={'sigla':'UF'})\n",
    "\n",
    "\n",
    "\n",
    "    #############       Folium       #############\n",
    "    \n",
    "    map = folium_map_init()\n",
    "    \n",
    "    style_states = {'fillOpacity':0 ,'color' : '#117306', 'weight': 2}\n",
    "    folium.GeoJson(states_copy, name = 'States', style_function= lambda x: style_states).add_to(map)\n",
    "    \n",
    "    style_legal_amazon = {'fillOpacity':0 ,'color' : '#117306', 'weight': 3}\n",
    "    folium.GeoJson(legal_amazon, name = 'Legal Amazon', style_function= lambda x: style_legal_amazon).add_to(map)\n",
    "    \n",
    "    folium.Choropleth(geo_data=states_copy,\n",
    "                      data=gb_uf,\n",
    "                      columns=['UF', 'AREAMUNKM'],\n",
    "                      key_on = 'feature.properties.UF',\n",
    "                      fill_color = 'YlOrRd',\n",
    "                      nan_fill_color = 'white',\n",
    "                      bins=10,\n",
    "                      highlight = True,\n",
    "                      legend_name='Affected Area in km²',\n",
    "                      name='Most Affected States').add_to(map)\n",
    "\n",
    "    map = folium_add_markers(map, gb_uf, states_copy, 1, df_deter, 'UF', 'NOME_SIGLA', texts['total_dmg'], 'AREAMUNKM')\n",
    "    \n",
    "    folium.LayerControl().add_to(map)\n",
    "\n",
    "    return map"
   ]
  },
  {
   "cell_type": "code",
   "execution_count": 19,
   "id": "85038168-9081-41c7-9e4d-3d8d9dddcabb",
   "metadata": {},
   "outputs": [
    {
     "name": "stderr",
     "output_type": "stream",
     "text": [
      "C:\\Users\\shail\\AppData\\Local\\Temp\\ipykernel_18164\\1314333218.py:14: UserWarning: Geometry is in a geographic CRS. Results from 'centroid' are likely incorrect. Use 'GeoSeries.to_crs()' to re-project geometries to a projected CRS before this operation.\n",
      "\n",
      "  geo_df_proj['centroid'] = geo_df_proj.geometry.centroid\n",
      "C:\\Users\\shail\\AppData\\Local\\Temp\\ipykernel_18164\\1314333218.py:15: UserWarning: Geometry is in a geographic CRS. Results from 'centroid' are likely incorrect. Use 'GeoSeries.to_crs()' to re-project geometries to a projected CRS before this operation.\n",
      "\n",
      "  geo_df_proj['latitude'] = geo_df_proj.centroid.y\n",
      "C:\\Users\\shail\\AppData\\Local\\Temp\\ipykernel_18164\\1314333218.py:16: UserWarning: Geometry is in a geographic CRS. Results from 'centroid' are likely incorrect. Use 'GeoSeries.to_crs()' to re-project geometries to a projected CRS before this operation.\n",
      "\n",
      "  geo_df_proj['longitude'] = geo_df_proj.centroid.x\n"
     ]
    }
   ],
   "source": [
    "dict_classes, texts = get_texts(\"English\")\n",
    "map = states_map()\n",
    "save_map('States_EN_New',map)"
   ]
  },
  {
   "cell_type": "code",
   "execution_count": 20,
   "id": "69fd6e32-2d6b-451e-b3ea-82a0d7311070",
   "metadata": {},
   "outputs": [
    {
     "name": "stderr",
     "output_type": "stream",
     "text": [
      "C:\\Users\\shail\\AppData\\Local\\Temp\\ipykernel_18164\\1314333218.py:14: UserWarning: Geometry is in a geographic CRS. Results from 'centroid' are likely incorrect. Use 'GeoSeries.to_crs()' to re-project geometries to a projected CRS before this operation.\n",
      "\n",
      "  geo_df_proj['centroid'] = geo_df_proj.geometry.centroid\n",
      "C:\\Users\\shail\\AppData\\Local\\Temp\\ipykernel_18164\\1314333218.py:15: UserWarning: Geometry is in a geographic CRS. Results from 'centroid' are likely incorrect. Use 'GeoSeries.to_crs()' to re-project geometries to a projected CRS before this operation.\n",
      "\n",
      "  geo_df_proj['latitude'] = geo_df_proj.centroid.y\n",
      "C:\\Users\\shail\\AppData\\Local\\Temp\\ipykernel_18164\\1314333218.py:16: UserWarning: Geometry is in a geographic CRS. Results from 'centroid' are likely incorrect. Use 'GeoSeries.to_crs()' to re-project geometries to a projected CRS before this operation.\n",
      "\n",
      "  geo_df_proj['longitude'] = geo_df_proj.centroid.x\n"
     ]
    }
   ],
   "source": [
    "dict_classes, texts = get_texts(\"Portuguese\")\n",
    "map = states_map()\n",
    "save_map('States_PT_New',map)"
   ]
  },
  {
   "cell_type": "markdown",
   "id": "68bb6ddb-1ef6-4f39-a29a-32d74b5898c4",
   "metadata": {},
   "source": [
    "### Cities Map"
   ]
  },
  {
   "cell_type": "code",
   "execution_count": 21,
   "id": "c0307c5c-56cb-45a7-a8b0-3f928c05ecb0",
   "metadata": {},
   "outputs": [],
   "source": [
    "def cities_map(filter=[]):\n",
    "    \n",
    "    ############# Data Preparation #############\n",
    "\n",
    "    geocodibge = alerts.drop_duplicates(subset='MUNICIPALI').set_index('MUNICIPALI')['GEOCODIBGE']\n",
    "    sum_areamunkm = alerts.groupby('MUNICIPALI')['AREAMUNKM'].sum().reset_index()\n",
    "    sum_areamunkm['GEOCODIBGE'] = sum_areamunkm['MUNICIPALI'].map(geocodibge)\n",
    "\n",
    "    merge = pd.merge(df_cities, sum_areamunkm, on='GEOCODIBGE', how='left')\n",
    "\n",
    "    if len(filter)>0:\n",
    "        merge = merge[merge['SIGLA_UF'].isin(filter)]\n",
    "    \n",
    "    # merge[merge['AREAMUNKM'].isna()]\n",
    "    # 226 cidades não contém avisos. Esses valores ausentes serão preenchidos com 0.\n",
    "    merge['AREAMUNKM'].fillna(0, inplace=True)\n",
    "\n",
    "    #############       Folium       #############\n",
    "    map = folium_map_init()\n",
    "\n",
    "    style_cities = {'fillOpacity':0 ,'color' : '#117306', 'weight': 1}\n",
    "    folium.GeoJson(merge, name = 'Cities', style_function= lambda x: style_cities).add_to(map)\n",
    "\n",
    "    style_states = {'fillOpacity':0 ,'color' : '#117306', 'weight': 2}\n",
    "    folium.GeoJson(states, name = 'States', style_function= lambda x: style_states).add_to(map)\n",
    "    \n",
    "    style_legal_amazon = {'fillOpacity':0 ,'color' : '#117306', 'weight': 3}\n",
    "    folium.GeoJson(legal_amazon, name = 'Legal Amazon', style_function= lambda x: style_legal_amazon).add_to(map)\n",
    "    \n",
    "    folium.Choropleth(geo_data=merge.to_json(),\n",
    "                  name='Choropleth',\n",
    "                  data=merge,\n",
    "                  columns=['GEOCODIBGE', 'AREAMUNKM'],\n",
    "                  key_on = 'feature.properties.GEOCODIBGE',\n",
    "                  fill_color = 'YlOrRd',\n",
    "                  nan_fill_color = 'white',\n",
    "                  highlight = True,\n",
    "                  legend_name='Affected Area in km²').add_to(map)\n",
    "\n",
    "    marker_cluster = MarkerCluster().add_to(map)\n",
    "    marker_cluster = folium_add_markers(marker_cluster, merge, merge, 2, alerts, 'GEOCODIBGE', 'NM_MUN', texts['total_dmg'], 'AREAMUNKM')\n",
    "    folium.LayerControl().add_to(map)\n",
    "\n",
    "    return map"
   ]
  },
  {
   "cell_type": "code",
   "execution_count": 22,
   "id": "727d2738-73ab-4205-971d-70a8c3d4e866",
   "metadata": {},
   "outputs": [
    {
     "data": {
      "text/plain": [
       "['AC', 'AM', 'AP', 'MA', 'MT', 'PA', 'RO', 'RR', 'TO']"
      ]
     },
     "execution_count": 22,
     "metadata": {},
     "output_type": "execute_result"
    }
   ],
   "source": [
    "lst_states = list(df_cities['SIGLA_UF'].unique())\n",
    "lst_states"
   ]
  },
  {
   "cell_type": "code",
   "execution_count": 23,
   "id": "ae0d49a4-ffd3-46ff-b3c0-d225f5220c4f",
   "metadata": {},
   "outputs": [
    {
     "name": "stderr",
     "output_type": "stream",
     "text": [
      "C:\\Users\\shail\\AppData\\Local\\Temp\\ipykernel_18164\\3594727758.py:16: FutureWarning: A value is trying to be set on a copy of a DataFrame or Series through chained assignment using an inplace method.\n",
      "The behavior will change in pandas 3.0. This inplace method will never work because the intermediate object on which we are setting values always behaves as a copy.\n",
      "\n",
      "For example, when doing 'df[col].method(value, inplace=True)', try using 'df.method({col: value}, inplace=True)' or df[col] = df[col].method(value) instead, to perform the operation inplace on the original object.\n",
      "\n",
      "\n",
      "  merge['AREAMUNKM'].fillna(0, inplace=True)\n"
     ]
    },
    {
     "name": "stdout",
     "output_type": "stream",
     "text": [
      "Cities_EN_AC_new saved.\n"
     ]
    },
    {
     "name": "stderr",
     "output_type": "stream",
     "text": [
      "C:\\Users\\shail\\AppData\\Local\\Temp\\ipykernel_18164\\3594727758.py:16: FutureWarning: A value is trying to be set on a copy of a DataFrame or Series through chained assignment using an inplace method.\n",
      "The behavior will change in pandas 3.0. This inplace method will never work because the intermediate object on which we are setting values always behaves as a copy.\n",
      "\n",
      "For example, when doing 'df[col].method(value, inplace=True)', try using 'df.method({col: value}, inplace=True)' or df[col] = df[col].method(value) instead, to perform the operation inplace on the original object.\n",
      "\n",
      "\n",
      "  merge['AREAMUNKM'].fillna(0, inplace=True)\n"
     ]
    },
    {
     "name": "stdout",
     "output_type": "stream",
     "text": [
      "Cities_EN_AM_new saved.\n"
     ]
    },
    {
     "name": "stderr",
     "output_type": "stream",
     "text": [
      "C:\\Users\\shail\\AppData\\Local\\Temp\\ipykernel_18164\\3594727758.py:16: FutureWarning: A value is trying to be set on a copy of a DataFrame or Series through chained assignment using an inplace method.\n",
      "The behavior will change in pandas 3.0. This inplace method will never work because the intermediate object on which we are setting values always behaves as a copy.\n",
      "\n",
      "For example, when doing 'df[col].method(value, inplace=True)', try using 'df.method({col: value}, inplace=True)' or df[col] = df[col].method(value) instead, to perform the operation inplace on the original object.\n",
      "\n",
      "\n",
      "  merge['AREAMUNKM'].fillna(0, inplace=True)\n"
     ]
    },
    {
     "name": "stdout",
     "output_type": "stream",
     "text": [
      "Cities_EN_AP_new saved.\n"
     ]
    },
    {
     "name": "stderr",
     "output_type": "stream",
     "text": [
      "C:\\Users\\shail\\AppData\\Local\\Temp\\ipykernel_18164\\3594727758.py:16: FutureWarning: A value is trying to be set on a copy of a DataFrame or Series through chained assignment using an inplace method.\n",
      "The behavior will change in pandas 3.0. This inplace method will never work because the intermediate object on which we are setting values always behaves as a copy.\n",
      "\n",
      "For example, when doing 'df[col].method(value, inplace=True)', try using 'df.method({col: value}, inplace=True)' or df[col] = df[col].method(value) instead, to perform the operation inplace on the original object.\n",
      "\n",
      "\n",
      "  merge['AREAMUNKM'].fillna(0, inplace=True)\n"
     ]
    },
    {
     "name": "stdout",
     "output_type": "stream",
     "text": [
      "Cities_EN_MA_new saved.\n"
     ]
    },
    {
     "name": "stderr",
     "output_type": "stream",
     "text": [
      "C:\\Users\\shail\\AppData\\Local\\Temp\\ipykernel_18164\\3594727758.py:16: FutureWarning: A value is trying to be set on a copy of a DataFrame or Series through chained assignment using an inplace method.\n",
      "The behavior will change in pandas 3.0. This inplace method will never work because the intermediate object on which we are setting values always behaves as a copy.\n",
      "\n",
      "For example, when doing 'df[col].method(value, inplace=True)', try using 'df.method({col: value}, inplace=True)' or df[col] = df[col].method(value) instead, to perform the operation inplace on the original object.\n",
      "\n",
      "\n",
      "  merge['AREAMUNKM'].fillna(0, inplace=True)\n"
     ]
    },
    {
     "name": "stdout",
     "output_type": "stream",
     "text": [
      "Cities_EN_MT_new saved.\n"
     ]
    },
    {
     "name": "stderr",
     "output_type": "stream",
     "text": [
      "C:\\Users\\shail\\AppData\\Local\\Temp\\ipykernel_18164\\3594727758.py:16: FutureWarning: A value is trying to be set on a copy of a DataFrame or Series through chained assignment using an inplace method.\n",
      "The behavior will change in pandas 3.0. This inplace method will never work because the intermediate object on which we are setting values always behaves as a copy.\n",
      "\n",
      "For example, when doing 'df[col].method(value, inplace=True)', try using 'df.method({col: value}, inplace=True)' or df[col] = df[col].method(value) instead, to perform the operation inplace on the original object.\n",
      "\n",
      "\n",
      "  merge['AREAMUNKM'].fillna(0, inplace=True)\n"
     ]
    },
    {
     "name": "stdout",
     "output_type": "stream",
     "text": [
      "Cities_EN_PA_new saved.\n"
     ]
    },
    {
     "name": "stderr",
     "output_type": "stream",
     "text": [
      "C:\\Users\\shail\\AppData\\Local\\Temp\\ipykernel_18164\\3594727758.py:16: FutureWarning: A value is trying to be set on a copy of a DataFrame or Series through chained assignment using an inplace method.\n",
      "The behavior will change in pandas 3.0. This inplace method will never work because the intermediate object on which we are setting values always behaves as a copy.\n",
      "\n",
      "For example, when doing 'df[col].method(value, inplace=True)', try using 'df.method({col: value}, inplace=True)' or df[col] = df[col].method(value) instead, to perform the operation inplace on the original object.\n",
      "\n",
      "\n",
      "  merge['AREAMUNKM'].fillna(0, inplace=True)\n"
     ]
    },
    {
     "name": "stdout",
     "output_type": "stream",
     "text": [
      "Cities_EN_RO_new saved.\n"
     ]
    },
    {
     "name": "stderr",
     "output_type": "stream",
     "text": [
      "C:\\Users\\shail\\AppData\\Local\\Temp\\ipykernel_18164\\3594727758.py:16: FutureWarning: A value is trying to be set on a copy of a DataFrame or Series through chained assignment using an inplace method.\n",
      "The behavior will change in pandas 3.0. This inplace method will never work because the intermediate object on which we are setting values always behaves as a copy.\n",
      "\n",
      "For example, when doing 'df[col].method(value, inplace=True)', try using 'df.method({col: value}, inplace=True)' or df[col] = df[col].method(value) instead, to perform the operation inplace on the original object.\n",
      "\n",
      "\n",
      "  merge['AREAMUNKM'].fillna(0, inplace=True)\n"
     ]
    },
    {
     "name": "stdout",
     "output_type": "stream",
     "text": [
      "Cities_EN_RR_new saved.\n"
     ]
    },
    {
     "name": "stderr",
     "output_type": "stream",
     "text": [
      "C:\\Users\\shail\\AppData\\Local\\Temp\\ipykernel_18164\\3594727758.py:16: FutureWarning: A value is trying to be set on a copy of a DataFrame or Series through chained assignment using an inplace method.\n",
      "The behavior will change in pandas 3.0. This inplace method will never work because the intermediate object on which we are setting values always behaves as a copy.\n",
      "\n",
      "For example, when doing 'df[col].method(value, inplace=True)', try using 'df.method({col: value}, inplace=True)' or df[col] = df[col].method(value) instead, to perform the operation inplace on the original object.\n",
      "\n",
      "\n",
      "  merge['AREAMUNKM'].fillna(0, inplace=True)\n"
     ]
    },
    {
     "name": "stdout",
     "output_type": "stream",
     "text": [
      "Cities_EN_TO_new saved.\n"
     ]
    }
   ],
   "source": [
    "dict_classes, texts = get_texts(\"English\")\n",
    "\n",
    "for i in range(len(lst_states)):\n",
    "    filter = []\n",
    "    filter.append(lst_states[i])\n",
    "    map = cities_map(filter)\n",
    "    map_name = 'Cities_EN_' + filter[0] + '_new'\n",
    "    save_map(map_name,map)\n",
    "    print(map_name + ' saved.')"
   ]
  },
  {
   "cell_type": "code",
   "execution_count": 24,
   "id": "424a5566-2f54-439a-90b7-99a1234fd930",
   "metadata": {},
   "outputs": [
    {
     "name": "stderr",
     "output_type": "stream",
     "text": [
      "C:\\Users\\shail\\AppData\\Local\\Temp\\ipykernel_18164\\3594727758.py:16: FutureWarning: A value is trying to be set on a copy of a DataFrame or Series through chained assignment using an inplace method.\n",
      "The behavior will change in pandas 3.0. This inplace method will never work because the intermediate object on which we are setting values always behaves as a copy.\n",
      "\n",
      "For example, when doing 'df[col].method(value, inplace=True)', try using 'df.method({col: value}, inplace=True)' or df[col] = df[col].method(value) instead, to perform the operation inplace on the original object.\n",
      "\n",
      "\n",
      "  merge['AREAMUNKM'].fillna(0, inplace=True)\n"
     ]
    },
    {
     "name": "stdout",
     "output_type": "stream",
     "text": [
      "All_Cities_EN_new saved.\n"
     ]
    }
   ],
   "source": [
    "dict_classes, texts = get_texts(\"English\")\n",
    "\n",
    "map = cities_map([])\n",
    "map_name = 'All_Cities_EN_new'\n",
    "save_map(map_name,map)\n",
    "print(map_name + ' saved.')"
   ]
  },
  {
   "cell_type": "code",
   "execution_count": 25,
   "id": "ab92f99a-f368-4704-a5b1-8fd6bddec105",
   "metadata": {},
   "outputs": [
    {
     "name": "stderr",
     "output_type": "stream",
     "text": [
      "C:\\Users\\shail\\AppData\\Local\\Temp\\ipykernel_18164\\3594727758.py:16: FutureWarning: A value is trying to be set on a copy of a DataFrame or Series through chained assignment using an inplace method.\n",
      "The behavior will change in pandas 3.0. This inplace method will never work because the intermediate object on which we are setting values always behaves as a copy.\n",
      "\n",
      "For example, when doing 'df[col].method(value, inplace=True)', try using 'df.method({col: value}, inplace=True)' or df[col] = df[col].method(value) instead, to perform the operation inplace on the original object.\n",
      "\n",
      "\n",
      "  merge['AREAMUNKM'].fillna(0, inplace=True)\n"
     ]
    },
    {
     "name": "stdout",
     "output_type": "stream",
     "text": [
      "Cities_PT_AC_new saved.\n"
     ]
    },
    {
     "name": "stderr",
     "output_type": "stream",
     "text": [
      "C:\\Users\\shail\\AppData\\Local\\Temp\\ipykernel_18164\\3594727758.py:16: FutureWarning: A value is trying to be set on a copy of a DataFrame or Series through chained assignment using an inplace method.\n",
      "The behavior will change in pandas 3.0. This inplace method will never work because the intermediate object on which we are setting values always behaves as a copy.\n",
      "\n",
      "For example, when doing 'df[col].method(value, inplace=True)', try using 'df.method({col: value}, inplace=True)' or df[col] = df[col].method(value) instead, to perform the operation inplace on the original object.\n",
      "\n",
      "\n",
      "  merge['AREAMUNKM'].fillna(0, inplace=True)\n"
     ]
    },
    {
     "name": "stdout",
     "output_type": "stream",
     "text": [
      "Cities_PT_AM_new saved.\n"
     ]
    },
    {
     "name": "stderr",
     "output_type": "stream",
     "text": [
      "C:\\Users\\shail\\AppData\\Local\\Temp\\ipykernel_18164\\3594727758.py:16: FutureWarning: A value is trying to be set on a copy of a DataFrame or Series through chained assignment using an inplace method.\n",
      "The behavior will change in pandas 3.0. This inplace method will never work because the intermediate object on which we are setting values always behaves as a copy.\n",
      "\n",
      "For example, when doing 'df[col].method(value, inplace=True)', try using 'df.method({col: value}, inplace=True)' or df[col] = df[col].method(value) instead, to perform the operation inplace on the original object.\n",
      "\n",
      "\n",
      "  merge['AREAMUNKM'].fillna(0, inplace=True)\n"
     ]
    },
    {
     "name": "stdout",
     "output_type": "stream",
     "text": [
      "Cities_PT_AP_new saved.\n"
     ]
    },
    {
     "name": "stderr",
     "output_type": "stream",
     "text": [
      "C:\\Users\\shail\\AppData\\Local\\Temp\\ipykernel_18164\\3594727758.py:16: FutureWarning: A value is trying to be set on a copy of a DataFrame or Series through chained assignment using an inplace method.\n",
      "The behavior will change in pandas 3.0. This inplace method will never work because the intermediate object on which we are setting values always behaves as a copy.\n",
      "\n",
      "For example, when doing 'df[col].method(value, inplace=True)', try using 'df.method({col: value}, inplace=True)' or df[col] = df[col].method(value) instead, to perform the operation inplace on the original object.\n",
      "\n",
      "\n",
      "  merge['AREAMUNKM'].fillna(0, inplace=True)\n"
     ]
    },
    {
     "name": "stdout",
     "output_type": "stream",
     "text": [
      "Cities_PT_MA_new saved.\n"
     ]
    },
    {
     "name": "stderr",
     "output_type": "stream",
     "text": [
      "C:\\Users\\shail\\AppData\\Local\\Temp\\ipykernel_18164\\3594727758.py:16: FutureWarning: A value is trying to be set on a copy of a DataFrame or Series through chained assignment using an inplace method.\n",
      "The behavior will change in pandas 3.0. This inplace method will never work because the intermediate object on which we are setting values always behaves as a copy.\n",
      "\n",
      "For example, when doing 'df[col].method(value, inplace=True)', try using 'df.method({col: value}, inplace=True)' or df[col] = df[col].method(value) instead, to perform the operation inplace on the original object.\n",
      "\n",
      "\n",
      "  merge['AREAMUNKM'].fillna(0, inplace=True)\n"
     ]
    },
    {
     "name": "stdout",
     "output_type": "stream",
     "text": [
      "Cities_PT_MT_new saved.\n"
     ]
    },
    {
     "name": "stderr",
     "output_type": "stream",
     "text": [
      "C:\\Users\\shail\\AppData\\Local\\Temp\\ipykernel_18164\\3594727758.py:16: FutureWarning: A value is trying to be set on a copy of a DataFrame or Series through chained assignment using an inplace method.\n",
      "The behavior will change in pandas 3.0. This inplace method will never work because the intermediate object on which we are setting values always behaves as a copy.\n",
      "\n",
      "For example, when doing 'df[col].method(value, inplace=True)', try using 'df.method({col: value}, inplace=True)' or df[col] = df[col].method(value) instead, to perform the operation inplace on the original object.\n",
      "\n",
      "\n",
      "  merge['AREAMUNKM'].fillna(0, inplace=True)\n"
     ]
    },
    {
     "name": "stdout",
     "output_type": "stream",
     "text": [
      "Cities_PT_PA_new saved.\n"
     ]
    },
    {
     "name": "stderr",
     "output_type": "stream",
     "text": [
      "C:\\Users\\shail\\AppData\\Local\\Temp\\ipykernel_18164\\3594727758.py:16: FutureWarning: A value is trying to be set on a copy of a DataFrame or Series through chained assignment using an inplace method.\n",
      "The behavior will change in pandas 3.0. This inplace method will never work because the intermediate object on which we are setting values always behaves as a copy.\n",
      "\n",
      "For example, when doing 'df[col].method(value, inplace=True)', try using 'df.method({col: value}, inplace=True)' or df[col] = df[col].method(value) instead, to perform the operation inplace on the original object.\n",
      "\n",
      "\n",
      "  merge['AREAMUNKM'].fillna(0, inplace=True)\n"
     ]
    },
    {
     "name": "stdout",
     "output_type": "stream",
     "text": [
      "Cities_PT_RO_new saved.\n"
     ]
    },
    {
     "name": "stderr",
     "output_type": "stream",
     "text": [
      "C:\\Users\\shail\\AppData\\Local\\Temp\\ipykernel_18164\\3594727758.py:16: FutureWarning: A value is trying to be set on a copy of a DataFrame or Series through chained assignment using an inplace method.\n",
      "The behavior will change in pandas 3.0. This inplace method will never work because the intermediate object on which we are setting values always behaves as a copy.\n",
      "\n",
      "For example, when doing 'df[col].method(value, inplace=True)', try using 'df.method({col: value}, inplace=True)' or df[col] = df[col].method(value) instead, to perform the operation inplace on the original object.\n",
      "\n",
      "\n",
      "  merge['AREAMUNKM'].fillna(0, inplace=True)\n"
     ]
    },
    {
     "name": "stdout",
     "output_type": "stream",
     "text": [
      "Cities_PT_RR_new saved.\n"
     ]
    },
    {
     "name": "stderr",
     "output_type": "stream",
     "text": [
      "C:\\Users\\shail\\AppData\\Local\\Temp\\ipykernel_18164\\3594727758.py:16: FutureWarning: A value is trying to be set on a copy of a DataFrame or Series through chained assignment using an inplace method.\n",
      "The behavior will change in pandas 3.0. This inplace method will never work because the intermediate object on which we are setting values always behaves as a copy.\n",
      "\n",
      "For example, when doing 'df[col].method(value, inplace=True)', try using 'df.method({col: value}, inplace=True)' or df[col] = df[col].method(value) instead, to perform the operation inplace on the original object.\n",
      "\n",
      "\n",
      "  merge['AREAMUNKM'].fillna(0, inplace=True)\n"
     ]
    },
    {
     "name": "stdout",
     "output_type": "stream",
     "text": [
      "Cities_PT_TO_new saved.\n"
     ]
    }
   ],
   "source": [
    "dict_classes, texts = get_texts(\"Portuguese\")\n",
    "\n",
    "for i in range(len(lst_states)):\n",
    "    filter = []\n",
    "    filter.append(lst_states[i])\n",
    "    map = cities_map(filter)\n",
    "    map_name = 'Cities_PT_' + filter[0] + '_new'\n",
    "    save_map(map_name,map)\n",
    "    print(map_name + ' saved.')"
   ]
  },
  {
   "cell_type": "code",
   "execution_count": 26,
   "id": "77ae0ff1-1faf-4933-a5d8-0375f91216a2",
   "metadata": {},
   "outputs": [
    {
     "name": "stderr",
     "output_type": "stream",
     "text": [
      "C:\\Users\\shail\\AppData\\Local\\Temp\\ipykernel_18164\\3594727758.py:16: FutureWarning: A value is trying to be set on a copy of a DataFrame or Series through chained assignment using an inplace method.\n",
      "The behavior will change in pandas 3.0. This inplace method will never work because the intermediate object on which we are setting values always behaves as a copy.\n",
      "\n",
      "For example, when doing 'df[col].method(value, inplace=True)', try using 'df.method({col: value}, inplace=True)' or df[col] = df[col].method(value) instead, to perform the operation inplace on the original object.\n",
      "\n",
      "\n",
      "  merge['AREAMUNKM'].fillna(0, inplace=True)\n"
     ]
    },
    {
     "name": "stdout",
     "output_type": "stream",
     "text": [
      "All_Cities_PT_new saved.\n"
     ]
    }
   ],
   "source": [
    "dict_classes, texts = get_texts(\"Portuguese\")\n",
    "\n",
    "map = cities_map([])\n",
    "map_name = 'All_Cities_PT_new'\n",
    "save_map(map_name,map)\n",
    "print(map_name + ' saved.')"
   ]
  },
  {
   "cell_type": "markdown",
   "id": "f168d114-5aa4-4aa4-9cac-fbc887230fb3",
   "metadata": {},
   "source": [
    "### C Units"
   ]
  },
  {
   "cell_type": "code",
   "execution_count": 27,
   "id": "de5215ef-ecc2-4d40-99a7-4d706194695e",
   "metadata": {},
   "outputs": [],
   "source": [
    "def normalize_string(s):\n",
    "    s = s.strip()\n",
    "    s = re.sub(r'\\s+', ' ', s)\n",
    "    s = re.sub(r'[^\\w\\s]', '', s)\n",
    "    s = s.upper()\n",
    "    return s\n",
    "\n",
    "def c_units_map():\n",
    "    ############# Data Preparation #############\n",
    "    c_units_copy = c_units.copy()\n",
    "    c_units_copy['UC'] = c_units_copy['UC'].apply(normalize_string)\n",
    "    \n",
    "    alerts_uc = alerts[alerts['UC'].notna()].copy()\n",
    "    dic_correcao = {'FLORESTA NACIONAL DE ALTAMIRA': 'FLORESTA NACIONAL ALTAMIRA', \n",
    "                    'FLORESTA NACIONAL DE CAXIUANÂ': 'FLORESTA NACIONAL DE CAXIUANÃ', \n",
    "                    'FLORESTA NACIONAL DO AMANA': 'FLORESTA NACIONAL DO AMANÁ',\n",
    "                    'FLORESTA NACIONAL DO BOM FUTURO': 'FLORESTA NACIONAL DE BOM FUTURO',\n",
    "                    'FLORESTA NACIONAL DO ITACAIUNAS': 'FLORESTA NACIONAL DE ITACAIUNAS',\n",
    "                    'FLORESTA NACIONAL DO JATUARANA': 'FLORESTA NACIONAL DE JATUARANA',\n",
    "                    'FLORESTA NACIONAL DO PURUS': 'RESERVA EXTRATIVISTA DO MÉDIO PURÚS',\n",
    "                    'FLORESTA NACIONAL DO TAPAJÓS': 'FLORESTA NACIONAL DE TAPAJÓS',\n",
    "                    'FLORESTA NACIONAL DO TAPIRAPÉAQUIRI': 'FLORESTA NACIONAL DE TAPIRAPÉAQUIRI',\n",
    "                    'FLORESTA NACIONAL MAPIÁ  INAUINI': 'FLORESTA NACIONAL DE MAPIÁINAUINÍ',\n",
    "                    'PARQUE NACIONAL SERRA DA CUTIA': 'PARQUE NACIONAL DA SERRA DA CUTIA',\n",
    "                    'RESERVA BIOLÓGICA NASCENTES DA SERRA DO CACHIMBO': 'RESERVA BIOLÓGICA NASCENTES SERRA DO CACHIMBO',\n",
    "                    'RESERVA EXTRATIVISTA DO ALTO JURUÁ': 'RESERVA EXTRATIVISTA ALTO JURUÁ',\n",
    "                    'RESERVA EXTRATIVISTA DO ALTO TARAUACÁ': 'RESERVA EXTRATIVISTA ALTO TARAUACÁ',\n",
    "                    'RESERVA EXTRATIVISTA DO BAIXO JURUÁ': 'RESERVA EXTRATIVISTA BAIXO JURUÁ',\n",
    "                    'RESERVA EXTRATIVISTA DO CIRIACO': 'RESERVA EXTRATIVISTA DO CIRIÁCO',\n",
    "                    'RESERVA EXTRATIVISTA DO LAGO DO CUNIÃ': 'RESERVA EXTRATIVISTA LAGO DO CUNIÃ',\n",
    "                    'RESERVA EXTRATIVISTA DO MÉDIO JURUÁ': 'RESERVA EXTRATIVISTA MÉDIO JURUÁ',\n",
    "                    'RESERVA EXTRATIVISTA DO RIO CAJARI': 'RESERVA EXTRATIVISTA RIO CAJARI',\n",
    "                    'RESERVA EXTRATIVISTA DO RIO DO CAUTÁRIO': 'RESERVA EXTRATIVISTA RIO CAUTÁRIO',\n",
    "                    'RESERVA EXTRATIVISTA DO RIO OURO PRETO': 'RESERVA EXTRATIVISTA RIO OURO PRETO',\n",
    "                    'RESERVA EXTRATIVISTA RIO UNINI': 'RESERVA EXTRATIVISTA DO RIO UNINI',\n",
    "                    'RESERVA EXTRATIVISTA TAPAJÓSARAPIUNS': 'RESERVA EXTRATIVISTA TAPAJÓS ARAPIUNS',\n",
    "                    'RESERVA EXTRATIVISTA TAPAJÓS-ARAPIUNS': 'RESERVA EXTRATIVISTA TAPAJÓS ARAPIUNS',\n",
    "                    'RESERVA EXTRATIVISTA TERRA GRANDE  PRACUÚBA': 'RESERVA EXTRATIVISTA TERRA GRANDE PRACUUBA',\n",
    "                    'RESERVA EXTRATIVISTA TERRA GRANDE - PRACUÚBA': 'RESERVA EXTRATIVISTA TERRA GRANDE PRACUUBA',\n",
    "                    'ÁREA DE PROTEÇÃO AMBIENTAL DOS MEANDROS DO RIO ARAGUAIA': 'ÁREA DE PROTEÇÃO AMBIENTAL MEANDROS DO ARAGUAIA',\n",
    "                    'ÁREA DE RELEVANTE INTERESSE ECOLÓGICO SERINGAL NOVA ESPERANÇA': 'ÁREA DE RELEVANTE INTERESSE ECOLÓGICA SERINGAL NOVA ESPERANÇA',\n",
    "                    'ESTAÇÃO ECOLÓGICA JUAMI-JAPURÁ': 'ESTAÇÃO ECOLÓGICA JUAMIJAPURÁ',\n",
    "                    'FLORESTA NACIONAL DE BALATA-TUFARI': 'FLORESTA NACIONAL DE BALATATUFARI',\n",
    "                    'FLORESTA NACIONAL DE SARACÁ-TAQUERA': 'FLORESTA NACIONAL DE SARACÁTAQUERA',\n",
    "                    'FLORESTA NACIONAL MAPIÁ - INAUINI': 'FLORESTA NACIONAL DE MAPIÁINAUINÍ',\n",
    "                    'RESERVA EXTRATIVISTA AUATÍ-PARANÁ': 'RESERVA EXTRATIVISTA AUATÍPARANÁ',\n",
    "                    'RESERVA EXTRATIVISTA DO CAZUMBÁ-IRACEMA': 'RESERVA EXTRATIVISTA DO CAZUMBÁIRACEMA',\n",
    "                    'RESERVA EXTRATIVISTA GURUPÁ-MELGAÇO': 'RESERVA EXTRATIVISTA GURUPÁMELGAÇO',\n",
    "                    'RESERVA EXTRATIVISTA IPAÚ-ANILZINHO': 'RESERVA EXTRATIVISTA IPAÚANILZINHO'}\n",
    "    alerts_uc['UC'] = alerts_uc['UC'].replace(dic_correcao)\n",
    "    gc_uc = alerts_uc.groupby('UC')['AREAMUNKM'].sum().reset_index()\n",
    "    gc_uc['UC'] = gc_uc['UC'].replace(dic_correcao)\n",
    "    \n",
    "    # Not found conservation units in c_units_copy dataframe\n",
    "    # lst_dif=[]\n",
    "    # for item in list(gc_uc['UC']):\n",
    "    #     if item not in list(c_units_copy['UC']):\n",
    "    #         lst_dif.append(item)\n",
    "    # lst_dif # ['ESTAÇÃO ECOLÓGICA DE CARACARAÍ', 'ESTAÇÃO ECOLÓGICA DE IQUÊ']\n",
    "    \n",
    "    # Inserindo unidades de conservação que faltam no geodataframe \"c_units_copy\" nas coordenadas do primeiro alerta encontrado nos dados do DETER\n",
    "    def uc_geodf(estacao):\n",
    "        primeiro_alerta = alerts[alerts['UC'] == estacao]['geometry'].iloc[0]\n",
    "        ponto_representativo = primeiro_alerta\n",
    "        novo_registro = {\n",
    "            'UC': estacao,\n",
    "            'geometry': ponto_representativo\n",
    "        }\n",
    "        return gpd.GeoDataFrame([novo_registro], crs=c_units_copy.crs)\n",
    "    \n",
    "    c_units_copy = pd.concat([c_units_copy, uc_geodf('ESTAÇÃO ECOLÓGICA DE CARACARAÍ')], ignore_index=True)\n",
    "    c_units_copy = pd.concat([c_units_copy, uc_geodf('ESTAÇÃO ECOLÓGICA DE IQUÊ')], ignore_index=True)\n",
    "    \n",
    "    merge_ucs = pd.merge(c_units_copy, gc_uc, on='UC', how='left').fillna(0)\n",
    "\n",
    "\n",
    "    \n",
    "    #############       Folium       #############\n",
    "\n",
    "    map = folium_map_init()\n",
    "\n",
    "    style_legal_amazon = {'fillOpacity':0 ,'color' : '#117306', 'weight': 3}\n",
    "    folium.GeoJson(legal_amazon, name = 'Legal Amazon', style_function= lambda x: style_legal_amazon).add_to(map)\n",
    "\n",
    "    style_states = {'fillOpacity':0 ,'color' : '#117306', 'weight': 2}\n",
    "    folium.GeoJson(states, name = 'States', style_function= lambda x: style_states).add_to(map)\n",
    "\n",
    "    style_ucs = {'fillOpacity':0 ,'color' : '#3d1601', 'weight': 1}\n",
    "    folium.GeoJson(c_units_copy, name = 'Conservation Units', style_function= lambda x: style_ucs).add_to(map)\n",
    "\n",
    "\n",
    "    folium.Choropleth(geo_data=merge_ucs.to_json(),\n",
    "                  name='Choropleth',\n",
    "                  data=merge_ucs,\n",
    "                  columns=['UC', 'AREAMUNKM'],\n",
    "                  key_on = 'feature.properties.UC',\n",
    "                  fill_color = 'YlOrRd',\n",
    "                  nan_fill_color = 'white',\n",
    "                  highlight = True,\n",
    "                  legend_name='Affected Area in km²').add_to(map)\n",
    "    \n",
    "    marker_cluster = MarkerCluster().add_to(map)\n",
    "\n",
    "    marker_cluster = folium_add_markers(marker_cluster,merge_ucs,merge_ucs, 2, alerts_uc, 'UC', 'UC', texts['total_dmg'], 'AREAMUNKM')\n",
    "\n",
    "    folium.LayerControl().add_to(map)\n",
    "    return map"
   ]
  },
  {
   "cell_type": "code",
   "execution_count": 28,
   "id": "c52c5d61-c920-48b2-a9e2-f2e862182f4f",
   "metadata": {},
   "outputs": [],
   "source": [
    "dict_classes, texts = get_texts(\"English\")\n",
    "map = c_units_map()\n",
    "save_map('C_Units_EN_new',map)"
   ]
  },
  {
   "cell_type": "code",
   "execution_count": 29,
   "id": "18081e6e-ba40-42b7-8fea-ac68e5994284",
   "metadata": {},
   "outputs": [],
   "source": [
    "dict_classes, texts = get_texts(\"Portuguese\")\n",
    "map = c_units_map()\n",
    "save_map('C_Units_PT_new',map)"
   ]
  },
  {
   "cell_type": "code",
   "execution_count": null,
   "id": "9805a9ea",
   "metadata": {},
   "outputs": [],
   "source": []
  }
 ],
 "metadata": {
  "kernelspec": {
   "display_name": "data_analysis_project",
   "language": "python",
   "name": "python3"
  },
  "language_info": {
   "codemirror_mode": {
    "name": "ipython",
    "version": 3
   },
   "file_extension": ".py",
   "mimetype": "text/x-python",
   "name": "python",
   "nbconvert_exporter": "python",
   "pygments_lexer": "ipython3",
   "version": "3.12.4"
  }
 },
 "nbformat": 4,
 "nbformat_minor": 5
}
